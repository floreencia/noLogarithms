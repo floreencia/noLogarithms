{
 "cells": [
  {
   "cell_type": "code",
   "execution_count": 1,
   "metadata": {},
   "outputs": [],
   "source": [
    "import os # join paths\n",
    "from __future__ import print_function, division\n",
    "import numpy as np # manipulate data\n",
    "import matplotlib.pyplot as plt # plotting\n",
    "import scikits.audiolab as al # play sounds, only for python 2\n",
    "from scipy import signal # window signal\n",
    "import ipywidgets as widgets # interactive buttons\n",
    "import matplotlib # plotting parameters\n",
    "matplotlib.rcParams.update({'font.size': 16}) # enlarge font size\n",
    "import pyano # sounds"
   ]
  },
  {
   "cell_type": "markdown",
   "metadata": {},
   "source": [
    "Settings"
   ]
  },
  {
   "cell_type": "code",
   "execution_count": 11,
   "metadata": {},
   "outputs": [],
   "source": [
    "# reload(pyano)\n",
    "tf = 0.6 # note duration\n",
    "fs = 44100 # sampling rate\n",
    "t = pyano.time_arr(tf, fs) # time\n",
    "synth = pyano.harmonic_i2dec  # synthesizer, other options are sinwave, harmonic\n",
    "outFigDir = './'"
   ]
  },
  {
   "cell_type": "markdown",
   "metadata": {},
   "source": [
    "# Why do the frequencies of the musical notes follow an exponential relation?\n",
    "\n",
    "\n",
    "Author: Florencia Noriega, florencia.noriega@code.berlin\n",
    "\n",
    "\n",
    "## The frequencies of the musical notes\n",
    "\n",
    "<img src=https://upload.wikimedia.org/wikipedia/commons/thumb/2/2e/Piano_Frequencies.svg/520px-Piano_Frequencies.svg.png style=\"zoom:90%\">\n",
    "\n",
    "\n",
    "<img src=\"https://upload.wikimedia.org/wikipedia/commons/8/82/CPT-sound-physical-manifestation.svg\" style=\"zoom:20%\" />\n"
   ]
  },
  {
   "cell_type": "markdown",
   "metadata": {},
   "source": [
    "**Figure 1: Frequencies of the piano keys** "
   ]
  },
  {
   "cell_type": "markdown",
   "metadata": {},
   "source": [
    "Each note is associated with a characteristic frequency. \n",
    "Let's use the piano keys to talk about the musical notes. \n",
    "On the left side we have sounds with low frequencies and on the right side we have sounds with high frequencies. \n",
    "Starting from the left, \n",
    "the first note is $A0$ with a frequency of 27.5 Hz and \n",
    "the last note is $C8$ with a frequency is 4.2 kHz."
   ]
  },
  {
   "cell_type": "markdown",
   "metadata": {},
   "source": [
    "## Linear frequency piano\n",
    "\n",
    "To figure out the frequencies of the rest of the notes let's define a linear function\n",
    "that returns the frequencies of the piano keys assuming that the frequency grows linearly\n",
    "\n",
    "\n",
    "$$\n",
    "f(n) = m n + b,\n",
    "$$\n",
    "\n",
    "where $m \\approx 47.8 Hz$ and $b \\approx -20.3 Hz$"
   ]
  },
  {
   "cell_type": "code",
   "execution_count": 14,
   "metadata": {},
   "outputs": [],
   "source": [
    "f1 = 27.5\n",
    "f88 = 4186\n",
    "\n",
    "lin_piano_ky2fr_fun = pyano.linear_piano_key2frequency_fun(1, f1, 88, f88)"
   ]
  },
  {
   "cell_type": "code",
   "execution_count": 15,
   "metadata": {},
   "outputs": [
    {
     "data": {
      "text/plain": [
       "49"
      ]
     },
     "execution_count": 15,
     "metadata": {},
     "output_type": "execute_result"
    }
   ],
   "source": [
    "12*3+3+10"
   ]
  },
  {
   "cell_type": "code",
   "execution_count": 16,
   "metadata": {},
   "outputs": [
    {
     "data": {
      "text/plain": [
       "2321.844827586207"
      ]
     },
     "execution_count": 16,
     "metadata": {},
     "output_type": "execute_result"
    }
   ],
   "source": [
    "lin_piano_ky2fr_fun(49)"
   ]
  },
  {
   "cell_type": "code",
   "execution_count": 17,
   "metadata": {},
   "outputs": [],
   "source": [
    "f = lin_piano_ky2fr_fun(49)\n",
    "y = synth(f, t)\n",
    "al.play(y, fs=fs)"
   ]
  },
  {
   "cell_type": "code",
   "execution_count": 18,
   "metadata": {},
   "outputs": [],
   "source": [
    "f=440\n",
    "y = synth(f, t)\n",
    "al.play(y, fs=fs)"
   ]
  },
  {
   "cell_type": "markdown",
   "metadata": {},
   "source": [
    "Play the keys of the major scale in a **linear piano**, where the frequencies grow linearly with the key index."
   ]
  },
  {
   "cell_type": "code",
   "execution_count": 19,
   "metadata": {},
   "outputs": [],
   "source": [
    "Mscale = pyano.majorScaleKeys(1, n_octaves=2)\n",
    "\n",
    "for i in Mscale[:-1]:\n",
    "    f = lin_piano_ky2fr_fun(i)\n",
    "    y = synth(f, t)\n",
    "    al.play(y, fs=fs)"
   ]
  },
  {
   "cell_type": "markdown",
   "metadata": {},
   "source": [
    "The sounds we get do not match the tones of the major scale. \n",
    "To understand why it worth looking at how sound are produced. \n",
    "\n",
    "<p><a href=\"https://commons.wikimedia.org/wiki/File:Harmonic_partials_on_strings.svg#/media/File:Harmonic_partials_on_strings.svg\"><img src=\"https://upload.wikimedia.org/wikipedia/commons/thumb/c/c5/Harmonic_partials_on_strings.svg/1200px-Harmonic_partials_on_strings.svg.png\" alt=\"Harmonic partials on strings.svg\" style=\"zoom:20%\"></a><br>By <a href=\"//commons.wikimedia.org/wiki/User:Qef\" title=\"User:Qef\">Qef</a> - Own work by uploader, based on design of bitmap image <a href=\"//commons.wikimedia.org/wiki/File:Overtone.jpg\" title=\"File:Overtone.jpg\">Image:Overtone.jpg</a>, Public Domain, <a href=\"https://commons.wikimedia.org/w/index.php?curid=4344186\">Link</a></p>"
   ]
  },
  {
   "cell_type": "markdown",
   "metadata": {},
   "source": [
    "**Figure 2: Overtones**"
   ]
  },
  {
   "cell_type": "markdown",
   "metadata": {},
   "source": [
    "Every 12 notes we go back to the same note one octave higher. \n",
    "Moving an octave above results in doubling the frequency of the note. \n",
    "\n",
    "$$\n",
    "f(n+12) = f(n) \\times 2\n",
    "$$\n",
    "\n",
    "$$\n",
    "f(n + 12m) = f(n) \\times 2^m\n",
    "$$\n",
    "\n",
    "So, the note $A$ in the third octave $A3$ has double the frequency of $A2$\n",
    "\n",
    "$$\n",
    "f(A_3) = f(A_2) \\times 2\n",
    "$$\n",
    "\n",
    "an in general\n",
    "\n",
    "$$\n",
    "f(A_n) = f(A_0) \\times 2^n\n",
    "$$\n"
   ]
  },
  {
   "cell_type": "markdown",
   "metadata": {},
   "source": [
    "The frequencies of the piano don't increase linearly by exponentially.\n",
    "\n",
    "$$\n",
    "f(n) = a b ^n\n",
    "$$\n",
    "\n",
    "The frequency grows exponentially with the key index.\n",
    "\n",
    "Calibrating the piano with\n",
    "$$\n",
    "f(1) = 27.5 = a b \\\\\n",
    "f(88) = 1482 = a b^{88}\n",
    "$$\n",
    "\n",
    "\n",
    "we get $b = \\Big( \\frac{f_1}{f_2} \\Big) ^{\\frac{1}{n_1 -n_2}} \\approx 1.06$ and $a = \\frac{f_1}{b^{n_1}} \\approx 26.0$\n",
    "\n",
    "\n"
   ]
  },
  {
   "cell_type": "markdown",
   "metadata": {},
   "source": [
    "Let's play the major scale with our exponential model"
   ]
  },
  {
   "cell_type": "code",
   "execution_count": 21,
   "metadata": {},
   "outputs": [],
   "source": [
    "piano_ky2fr_fun = pyano.my_piano_key2frequency_fun(1, f1, 88, f88)\n",
    "Mscale_keys = pyano.majorScaleKeys(12*2)\n",
    "\n",
    "for i in Mscale_keys[:]:\n",
    "    f = piano_ky2fr_fun(i)\n",
    "    y = synth(f, t)\n",
    "    al.play(y, fs=fs)"
   ]
  },
  {
   "cell_type": "markdown",
   "metadata": {},
   "source": [
    "Much better :-)"
   ]
  },
  {
   "cell_type": "markdown",
   "metadata": {},
   "source": [
    "## Linear versus exponential growth"
   ]
  },
  {
   "cell_type": "code",
   "execution_count": 22,
   "metadata": {},
   "outputs": [
    {
     "data": {
      "text/plain": [
       "Text(0.5,1,'piano')"
      ]
     },
     "execution_count": 22,
     "metadata": {},
     "output_type": "execute_result"
    },
    {
     "data": {
      "image/png": "[encoded data removed]",
      "text/plain": [
       "<Figure size 864x288 with 2 Axes>"
      ]
     },
     "metadata": {
      "needs_background": "light"
     },
     "output_type": "display_data"
    }
   ],
   "source": [
    "x = np.arange(1, 89)\n",
    "\n",
    "fig, ax =  plt.subplots(1, 2, figsize=(12, 4), sharey=True)\n",
    "\n",
    "y = lin_piano_ky2fr_fun(x)\n",
    "ax[0].plot(x, y, '.')\n",
    "ax[0].set_xlabel('n, piano key number')\n",
    "ax[0].set_ylabel('frequency (Hz)')\n",
    "ax[0].set_title('linear piano')\n",
    "\n",
    "y = piano_ky2fr_fun(x)\n",
    "ax[1].plot(x, y, '.')\n",
    "ax[1].set_xlabel('n, piano key number')\n",
    "ax[1].set_title('piano')"
   ]
  },
  {
   "cell_type": "markdown",
   "metadata": {},
   "source": [
    "**Figure 3: Frequencies of the piano keys assuming a linear and an exponential model.**"
   ]
  },
  {
   "cell_type": "markdown",
   "metadata": {},
   "source": [
    "Intervals between consecutive notes with a the linear and the exponential model."
   ]
  },
  {
   "cell_type": "code",
   "execution_count": 23,
   "metadata": {},
   "outputs": [
    {
     "name": "stdout",
     "output_type": "stream",
     "text": [
      "n\tF_L(n)\tD F_L\t\tF(n)\tD F\tFn/Fn-1\n",
      "---------------------------------------------------\n",
      "2\t75.3\t47.8\t\t29.1\t1.6\t1.1\n",
      "3\t123.1\t47.8\t\t30.9\t1.7\t1.1\n",
      "4\t170.9\t47.8\t\t32.7\t1.8\t1.1\n",
      "5\t218.7\t47.8\t\t34.6\t1.9\t1.1\n",
      "6\t266.5\t47.8\t\t36.7\t2.1\t1.1\n",
      "7\t314.3\t47.8\t\t38.9\t2.2\t1.1\n",
      "8\t362.1\t47.8\t\t41.2\t2.3\t1.1\n",
      "9\t409.9\t47.8\t\t43.7\t2.5\t1.1\n"
     ]
    }
   ],
   "source": [
    "i = 2\n",
    "fLp0 = lin_piano_ky2fr_fun(i-1)\n",
    "fp0 = lin_piano_ky2fr_fun(i-1)\n",
    "\n",
    "print(\"n\\tF_L(n)\\tD F_L\\t\\tF(n)\\tD F\\tFn/Fn-1\\n\"\\\n",
    "     \"---------------------------------------------------\")\n",
    "\n",
    "\n",
    "for i in np.arange(i, 10):\n",
    "    fLp = lin_piano_ky2fr_fun(i)\n",
    "    fp = piano_ky2fr_fun(i)\n",
    "    print(\"{}\\t{:.1f}\\t{:.1f}\\t\\t{:.1f}\\t{:.1f}\\t{:.1f}\".format(i, fLp, fLp - fLp0, fp, fp - fp0, fp/fp0))\n",
    "    fLp0 = fLp\n",
    "    fp0 = fp"
   ]
  },
  {
   "cell_type": "markdown",
   "metadata": {},
   "source": [
    "Every time we advance one key we multiply the frequency by $1.06$, $f(n+1) = f(n) \\times b$\n",
    "\n",
    "$f(n + m) = f(n) b^{m}$"
   ]
  },
  {
   "cell_type": "markdown",
   "metadata": {},
   "source": [
    "## Exponential growth and logarithmic growth are two faces of the same coin\n",
    "\n",
    "An exponential model $y=a b^x$ says that $y$ grows exponentially with $x$. \n",
    "\n",
    "Now we can ask, how does $x$ grows with $y$ . \n",
    "\n",
    "Translating this into musical notes, would allow us to address the question: which is the piano note that produces the frequency $f$  so $k(f)$?\n",
    "\n",
    "For that we just need to flip our graph. \n",
    "\n",
    "To figure out the function that describes this curve, can isolate x from $y = a b^x$ by taking the logarithm\n",
    "$$\n",
    "\\log_b (y) = \\log_b(ab^x) \\\\= x log_b(b) + \\log_b(a) \\\\x = \\log_b(y) - \\log_b(a) \\\\\n",
    "$$\n",
    "If $a=1$ then $x = log_b(y)$ otherwise $x = \\log_b(y) + c $\n",
    "\n",
    "Summarising, if $y$ depends exponentially on $x$ then $x$ depends logarithmically on $y$. \n",
    "\n",
    "If a variable depends exponentially to another one, the other one depends logarithmically to the first one. \n",
    "\n",
    "In a way exponents and logarithms are the same. They are just two different ways of describing the same  relation, but form two different perspectives.\n",
    "\n",
    "$f(x) = \\log_b(x)$ From the perspective of the exponent, to what power do I have to raise the basis $b$ to get $x$?\n",
    "\n",
    "$g(y) = b^y$ From the perspective of a peer, what is $b$ to the power of $x$?"
   ]
  },
  {
   "cell_type": "code",
   "execution_count": 24,
   "metadata": {},
   "outputs": [
    {
     "data": {
      "image/png": "[encoded data removed]",
      "text/plain": [
       "<Figure size 864x288 with 2 Axes>"
      ]
     },
     "metadata": {
      "needs_background": "light"
     },
     "output_type": "display_data"
    }
   ],
   "source": [
    "x = np.arange(1, 89)\n",
    "\n",
    "fig, ax =  plt.subplots(1, 2, figsize=(12, 4))\n",
    "\n",
    "y = piano_ky2fr_fun(x)\n",
    "ax[0].plot(x, y, '.')\n",
    "ax[0].set_xlabel('piano key')\n",
    "ax[0].set_ylabel('frequency (Hz)')\n",
    "\n",
    "y = piano_ky2fr_fun(x)\n",
    "ax[1].plot(y, x, '.')\n",
    "ax[1].set_xlabel('frequency (Hz)')\n",
    "ax[1].set_ylabel('piano key')\n",
    "\n",
    "fig.savefig(os.path.join(outFigDir,'freqs_notes_log_exp.png'), \n",
    "            bbox_inches='tight')"
   ]
  },
  {
   "cell_type": "code",
   "execution_count": 175,
   "metadata": {},
   "outputs": [
    {
     "data": {
      "image/png": "[encoded data removed]",
      "text/plain": [
       "<Figure size 432x288 with 1 Axes>"
      ]
     },
     "metadata": {
      "needs_background": "light"
     },
     "output_type": "display_data"
    },
    {
     "data": {
      "image/png": "[encoded data removed]",
      "text/plain": [
       "<Figure size 432x288 with 1 Axes>"
      ]
     },
     "metadata": {
      "needs_background": "light"
     },
     "output_type": "display_data"
    }
   ],
   "source": [
    "x = np.arange(1, 89)\n",
    "\n",
    "fig, ax =  plt.subplots()\n",
    "\n",
    "y = piano_ky2fr_fun(x)\n",
    "ax.plot(x, y, '.')\n",
    "ax.set_xlabel('piano key')\n",
    "ax.set_ylabel('frequency (Hz)')\n",
    "fig.savefig(os.path.join(outFigDir, 'freqs_notes_exp.png'), \n",
    "            bbox_inches='tight')\n",
    "\n",
    "fig, ax =  plt.subplots()\n",
    "\n",
    "y = piano_ky2fr_fun(x)\n",
    "ax.plot(y, x, '.')\n",
    "ax.set_xlabel('frequency (Hz)')\n",
    "ax.set_ylabel('piano key')\n",
    "fig.savefig(os.path.join(outFigDir, 'freqs_notes_log.png'), \n",
    "            bbox_inches='tight')"
   ]
  },
  {
   "cell_type": "markdown",
   "metadata": {},
   "source": [
    "## Other examples of exponential/logarithmic growth\n",
    "\n",
    "This is the same type of growth underneath the spread of COVID-19.\n",
    "\n",
    "Piano keys $n$ and $m$ $\\rightarrow$ days $d$\n",
    "\n",
    "Key frequency $f(n) \\, \\rightarrow \\, N(d)$ is the number of cases on day $d$\n",
    "\n",
    "$b$ Frequency increase $\\rightarrow$ $R$ infection rate.\n",
    "\n",
    "You can dig deeper in this [notebook](https://github.com/floreencia/pandemic/blob/master/COVID-19.ipynb)\n"
   ]
  },
  {
   "cell_type": "code",
   "execution_count": 25,
   "metadata": {},
   "outputs": [
    {
     "data": {
      "image/png": "[encoded data removed]",
      "text/plain": [
       "<Figure size 432x288 with 1 Axes>"
      ]
     },
     "metadata": {
      "needs_background": "light"
     },
     "output_type": "display_data"
    }
   ],
   "source": [
    "x = np.arange(40)\n",
    "R = 1.2\n",
    "d0 = 10\n",
    "y = d0*R**(x)\n",
    "\n",
    "fig, ax =  plt.subplots()#1, 1, figsize=(12, 4))\n",
    "\n",
    "ax.plot(x, y, '.')\n",
    "ax.set_xlabel('day')\n",
    "ax.set_ylabel('COVID-19 cases')\n",
    "\n",
    "fig.savefig(os.path.join(outFigDir, 'log_exp_plots_covid.png'), \n",
    "            bbox_inches='tight')"
   ]
  },
  {
   "cell_type": "markdown",
   "metadata": {},
   "source": [
    "## Binary search"
   ]
  },
  {
   "cell_type": "code",
   "execution_count": 26,
   "metadata": {},
   "outputs": [
    {
     "data": {
      "image/png": "[encoded data removed]",
      "text/plain": [
       "<Figure size 432x288 with 1 Axes>"
      ]
     },
     "metadata": {
      "needs_background": "light"
     },
     "output_type": "display_data"
    }
   ],
   "source": [
    "x = np.arange(1, 129)\n",
    "y = np.log2(x)\n",
    "yd = np.ceil(np.log2(x))\n",
    "\n",
    "fig, ax =  plt.subplots()#1, 1, figsize=(12, 4))\n",
    "\n",
    "ax.plot(x, y)\n",
    "ax.plot(x, yd, '.')\n",
    "ax.set_xlabel('size of the array')\n",
    "ax.set_ylabel('steps')\n",
    "\n",
    "fig.savefig(os.path.join(outFigDir, 'log_exp_plots_binarySearch.png'), \n",
    "            bbox_inches='tight')"
   ]
  },
  {
   "cell_type": "markdown",
   "metadata": {},
   "source": [
    "## Harmonics"
   ]
  },
  {
   "cell_type": "code",
   "execution_count": 27,
   "metadata": {},
   "outputs": [
    {
     "data": {
      "image/png": "[encoded data removed]",
      "text/plain": [
       "<Figure size 576x504 with 4 Axes>"
      ]
     },
     "metadata": {
      "needs_background": "light"
     },
     "output_type": "display_data"
    }
   ],
   "source": [
    "f0 = 1\n",
    "t = np.linspace(0, np.pi)\n",
    "N = 5\n",
    "\n",
    "fig, ax = plt.subplots(N-1, figsize=(8,7))\n",
    "\n",
    "\n",
    "for i in np.arange(1, N):\n",
    "    f = f0*i\n",
    "    y = np.sin(t*f)\n",
    "    ax[i-1].plot(t, y, lw=4)\n",
    "    ax[i-1].plot(t, -y, c='b', alpha=0.3, lw=4)\n",
    "    ax[i-1].set_ylim(-1.1,1.1)\n",
    "    ax[i-1].axis('off')\n",
    "\n",
    "fig.savefig(os.path.join(outFigDir, 'harmonic_wave.png'), \n",
    "            bbox_inches='tight')\n",
    "    "
   ]
  },
  {
   "cell_type": "code",
   "execution_count": null,
   "metadata": {},
   "outputs": [],
   "source": []
  }
 ],
 "metadata": {
  "kernelspec": {
   "display_name": "Python 2",
   "language": "python",
   "name": "python2"
  },
  "language_info": {
   "codemirror_mode": {
    "name": "ipython",
    "version": 2
   },
   "file_extension": ".py",
   "mimetype": "text/x-python",
   "name": "python",
   "nbconvert_exporter": "python",
   "pygments_lexer": "ipython2",
   "version": "2.7.16"
  }
 },
 "nbformat": 4,
 "nbformat_minor": 2
}
