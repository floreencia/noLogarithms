{
 "cells": [
  {
   "cell_type": "code",
   "execution_count": 1,
   "metadata": {},
   "outputs": [],
   "source": [
    "import sys\n",
    "from __future__ import print_function, division\n",
    "import numpy as np # manipulate data\n",
    "import matplotlib.pyplot as plt # plotting\n",
    "import scikits.audiolab as al # play sounds, only for python 2\n",
    "from scipy import signal # window signal\n",
    "import ipywidgets as widgets # interactive buttons\n",
    "import matplotlib # plotting parameters\n",
    "matplotlib.rcParams.update({'font.size': 18}) # enlarge font size\n",
    "import matplotlib"
   ]
  },
  {
   "cell_type": "code",
   "execution_count": 2,
   "metadata": {},
   "outputs": [],
   "source": [
    "import pyano"
   ]
  },
  {
   "cell_type": "code",
   "execution_count": 3,
   "metadata": {},
   "outputs": [],
   "source": [
    "matplotlib.rcParams.update({'font.size': 16})"
   ]
  },
  {
   "cell_type": "markdown",
   "metadata": {},
   "source": [
    "# How would a world without logarithms look like? \n",
    "\n",
    "Author: Florencia Noriega, florencia.noriega@code.berlin\n",
    "\n",
    "Here we listen to this world exploring the linear piano. \n",
    "\n",
    "## The linear piano\n",
    "\n",
    "The linear piano is a deformation of the normal piano for beings who perceive sound frequencies linearly instead of logarithmically as we humans do. \n",
    "To understand the linear piano deformation, let's first look at how the normal piano works. \n",
    "\n",
    "\n",
    "### The piano\n",
    "\n",
    "The piano (or any keyboard) is composed of black an white keys that map to the 12 notes of the [chromatic scale](https://en.wikipedia.org/wiki/Chromatic_scale).\n",
    "Every 12 notes we go back to the same note one octave higher.  The frequency of a note doubles from one octave to the next octave. For example, the frequency of A in the 3rd octave is 220 Hz and in the 4th octave is 440 Hz.\n",
    "\n",
    "In the figure below the keys are grouped into nine octaves.\n",
    "We can label the keys of the piano by their position $n$; one for the first key, two for the second and so on. \n",
    "With such labelling, note C of the 4th octave, or C4, would be the 40th key of the piano and note A4 (A in the 4th octave) would be the 49th key.\n",
    "\n",
    "<a title=\"AlwaysAngry [CC BY-SA 3.0 (https://creativecommons.org/licenses/by-sa/3.0)], via Wikimedia Commons\" href=\"https://commons.wikimedia.org/wiki/File:Piano_Frequencies.svg\"><img width=\"700\" alt=\"Piano Frequencies\" src=\"https://upload.wikimedia.org/wikipedia/commons/thumb/2/2e/Piano_Frequencies.svg/512px-Piano_Frequencies.svg.png\"></a>\n",
    "\n",
    "The fundamental frequency of the $n$ key, $f(n)$, is given by the equation\n",
    "\n",
    "$$\n",
    "f(n) = \\left(\\sqrt[12]{2}\\,\\right)^{n-49} \\times 440 \\,\\text{Hz}.\n",
    "$$\n",
    "\n",
    "\n",
    "https://en.wikipedia.org/wiki/Piano_key_frequencies \n",
    "\n",
    "\n"
   ]
  },
  {
   "cell_type": "code",
   "execution_count": 11,
   "metadata": {},
   "outputs": [
    {
     "name": "stdout",
     "output_type": "stream",
     "text": [
      "There are 88 the keyboard\n"
     ]
    }
   ],
   "source": [
    "N_keys = 12 * 7 + 3 + 1\n",
    "print('There are', N_keys, 'the keyboard')"
   ]
  },
  {
   "cell_type": "markdown",
   "metadata": {},
   "source": [
    "The frequencies of the notes follow an exponential relation. \n",
    "This means that the interval between consecutive notes is not constant increases exponenitialy."
   ]
  },
  {
   "cell_type": "code",
   "execution_count": 12,
   "metadata": {},
   "outputs": [
    {
     "data": {
      "text/plain": [
       "Text(0,0.5,'Frequency (Hz)')"
      ]
     },
     "execution_count": 12,
     "metadata": {},
     "output_type": "execute_result"
    },
    {
     "data": {
      "image/png": "[encoded data removed]",
      "text/plain": [
       "<Figure size 432x288 with 1 Axes>"
      ]
     },
     "metadata": {
      "needs_background": "light"
     },
     "output_type": "display_data"
    }
   ],
   "source": [
    "Mk = pyano.keys2frequencies(np.arange(1, N_keys+1))\n",
    "\n",
    "#plt.semilogy(Mk, 'bo')\n",
    "plt.plot(Mk, 'bo')\n",
    "plt.title('Piano')\n",
    "plt.xlabel('Key index')\n",
    "plt.ylabel('Frequency (Hz)')"
   ]
  },
  {
   "cell_type": "markdown",
   "metadata": {},
   "source": [
    "If the intervals between consecutive notes didn't change, ie. the relation between the notes and the fundamental frequency was linear, the piano would completely different."
   ]
  },
  {
   "cell_type": "code",
   "execution_count": 13,
   "metadata": {},
   "outputs": [
    {
     "data": {
      "text/plain": [
       "Text(0,0.5,'Frequency (Hz)')"
      ]
     },
     "execution_count": 13,
     "metadata": {},
     "output_type": "execute_result"
    },
    {
     "data": {
      "image/png": "[encoded data removed]",
      "text/plain": [
       "<Figure size 432x288 with 1 Axes>"
      ]
     },
     "metadata": {
      "needs_background": "light"
     },
     "output_type": "display_data"
    }
   ],
   "source": [
    "fr = pyano.linear_piano_key2frequency(np.arange(1, N_keys+1))\n",
    "\n",
    "plt.plot(fr, 'bo')\n",
    "plt.plot(fr[fr<0], 'ro')\n",
    "\n",
    "plt.title('Linear piano')\n",
    "plt.xlabel('Key index')\n",
    "plt.ylabel('Frequency (Hz)')"
   ]
  },
  {
   "cell_type": "markdown",
   "metadata": {},
   "source": [
    "The linear piano misses almost half of the notes"
   ]
  },
  {
   "cell_type": "code",
   "execution_count": 14,
   "metadata": {},
   "outputs": [
    {
     "data": {
      "text/plain": [
       "array([[37],\n",
       "       [38]])"
      ]
     },
     "execution_count": 14,
     "metadata": {},
     "output_type": "execute_result"
    }
   ],
   "source": [
    "np.argwhere(fr>0)[0:2]"
   ]
  },
  {
   "cell_type": "markdown",
   "metadata": {},
   "source": [
    "### First five keys of the piano\n"
   ]
  },
  {
   "cell_type": "code",
   "execution_count": 16,
   "metadata": {},
   "outputs": [
    {
     "name": "stdout",
     "output_type": "stream",
     "text": [
      "Frequencies of the first keys\n",
      "Piano ['28', '29', '31', '33', '35']\n",
      "Linear piano ['0', '37', '73', '110', '147']\n"
     ]
    }
   ],
   "source": [
    "## piano\n",
    "piano_keys = [str(item) for item in pyano.round2int(pyano.keys2frequencies(np.arange(1,6)))]\n",
    "\n",
    "## lienear piano\n",
    "valid_linear_piano_keys = np.array( [item[0] for item in np.argwhere(fr>0)]) # keep only notes with positive frequency\n",
    "\n",
    "linearPiano_keys = [str(item) for \n",
    "                    item in pyano.round2int(pyano.linear_piano_keys2frequencies(valid_linear_piano_keys[np.arange(5)]))]\n",
    "print(\"Frequencies of the first keys\\nPiano\", piano_keys)\n",
    "print(\"Linear piano\", linearPiano_keys)"
   ]
  },
  {
   "cell_type": "markdown",
   "metadata": {},
   "source": [
    "Let's listen at them\n",
    "\n",
    "First five, are the notes of the piano and last five are the first five notes of the linear piano."
   ]
  },
  {
   "cell_type": "code",
   "execution_count": 17,
   "metadata": {},
   "outputs": [
    {
     "data": {
      "application/vnd.jupyter.widget-view+json": {
       "model_id": "e7313042a236499b99fcb84b95cb61c6",
       "version_major": 2,
       "version_minor": 0
      },
      "text/plain": [
       "VG9nZ2xlQnV0dG9ucyhkZXNjcmlwdGlvbj11J0ZyZXF1ZW5jeTonLCBvcHRpb25zPSgnMjgnLCAnMjknLCAnMzEnLCAnMzMnLCAnMzUnLCAnMCcsICczNycsICc3MycsICcxMTAnLCAnMTQ3JynigKY=\n"
      ]
     },
     "metadata": {},
     "output_type": "display_data"
    }
   ],
   "source": [
    "buttons = widgets.ToggleButtons(\n",
    "    options=piano_keys + linearPiano_keys,\n",
    "    description='Frequency:',\n",
    ")\n",
    "    \n",
    "def on_click(change):\n",
    "    pyano.playwave(float(change['new']))\n",
    "    \n",
    "buttons.observe(on_click, 'value')\n",
    "buttons"
   ]
  },
  {
   "cell_type": "markdown",
   "metadata": {},
   "source": [
    "# Play some notes"
   ]
  },
  {
   "cell_type": "code",
   "execution_count": 21,
   "metadata": {},
   "outputs": [
    {
     "data": {
      "application/vnd.jupyter.widget-view+json": {
       "model_id": "5f4c1a69b61f4d2c88928a3a6ff85d7e",
       "version_major": 2,
       "version_minor": 0
      },
      "text/plain": [
       "VG9nZ2xlQnV0dG9ucyhkZXNjcmlwdGlvbj11J0ZyZXF1ZW5jeTonLCBvcHRpb25zPSgnMjInLCAnMzEnLCAnODAnLCAnMTEwJywgJzIyMCcsICc0NDAnLCAnODgwJywgJzM5MCcpLCB2YWx1ZT3igKY=\n"
      ]
     },
     "metadata": {},
     "output_type": "display_data"
    }
   ],
   "source": [
    "buttons = widgets.ToggleButtons(\n",
    "    options=['22', '31', '80', '110','220', '440', '880', '390' ],\n",
    "    description='Frequency:',\n",
    ")\n",
    "    \n",
    "def on_click(change):\n",
    "    pyano.playwave(float(change['new']))\n",
    "    \n",
    "\n",
    "buttons.observe(on_click, 'value')\n",
    "buttons"
   ]
  },
  {
   "cell_type": "markdown",
   "metadata": {},
   "source": [
    "# Major scale"
   ]
  },
  {
   "cell_type": "code",
   "execution_count": 26,
   "metadata": {},
   "outputs": [
    {
     "data": {
      "application/vnd.jupyter.widget-view+json": {
       "model_id": "b2143ab0755348f5a7a4eb638685b210",
       "version_major": 2,
       "version_minor": 0
      },
      "text/plain": [
       "VG9nZ2xlQnV0dG9ucyhkZXNjcmlwdGlvbj11J0ZyZXF1ZW5jeTonLCBvcHRpb25zPSgnMjYyJywgJzI5NCcsICczMzAnLCAnMzQ5JywgJzM5MicsICc0NDAnLCAnNDk0JywgJzUyMycpLCB2YWzigKY=\n"
      ]
     },
     "metadata": {},
     "output_type": "display_data"
    }
   ],
   "source": [
    "majorScale = [str(item) for item in pyano.round2int(pyano.majorScaleFreqs(n0=40))]\n",
    "\n",
    "buttons = widgets.ToggleButtons(\n",
    "    options=majorScale,\n",
    "    description='Frequency:',\n",
    ")\n",
    "    \n",
    "def on_click(change):\n",
    "    pyano.playwave(float(change['new']))\n",
    "    \n",
    "\n",
    "buttons.observe(on_click, 'value')\n",
    "buttons"
   ]
  },
  {
   "cell_type": "markdown",
   "metadata": {},
   "source": [
    "## Major scale in a world without logarithms"
   ]
  },
  {
   "cell_type": "code",
   "execution_count": 29,
   "metadata": {},
   "outputs": [
    {
     "data": {
      "application/vnd.jupyter.widget-view+json": {
       "model_id": "65fe9c152edf44adb0adad71f67ab3ca",
       "version_major": 2,
       "version_minor": 0
      },
      "text/plain": [
       "VG9nZ2xlQnV0dG9ucyhkZXNjcmlwdGlvbj11J0ZyZXF1ZW5jeTonLCBvcHRpb25zPSg0NDAuMCwgNTEzLjMzMzMzMzMzMzMzMzMsIDU4Ni42NjY2NjY2NjY2NjY3LCA2MjMuMzMzMzMzMzMzMzPigKY=\n"
      ]
     },
     "metadata": {},
     "output_type": "display_data"
    }
   ],
   "source": [
    "linear_majorScale = [str(item) for item in pyano.round2int(pyano.linear_majorScaleFreqs(n0=40))]\n",
    "\n",
    "buttons = widgets.ToggleButtons(\n",
    "    options = pyano.linear_majorScaleFreqs(), #['440', '494', '523', '587', '659', '698', '784', '880'],\n",
    "    description='Frequency:',\n",
    ")\n",
    "    \n",
    "def on_click(change):\n",
    "    pyano.playwave(float(change['new']))\n",
    "    \n",
    "\n",
    "buttons.observe(on_click, 'value')\n",
    "buttons"
   ]
  },
  {
   "cell_type": "markdown",
   "metadata": {},
   "source": [
    "# Play all keys"
   ]
  },
  {
   "cell_type": "code",
   "execution_count": 33,
   "metadata": {},
   "outputs": [
    {
     "name": "stdout",
     "output_type": "stream",
     "text": [
      "key 35, frequency 196.0 Hz\n",
      "key 36, frequency 207.7 Hz\n",
      "key 37, frequency 220.0 Hz\n",
      "key 38, frequency 233.1 Hz\n",
      "key 39, frequency 246.9 Hz\n",
      "key 40, frequency 261.6 Hz\n",
      "key 41, frequency 277.2 Hz\n",
      "key 42, frequency 293.7 Hz\n",
      "key 43, frequency 311.1 Hz\n",
      "key 44, frequency 329.6 Hz\n",
      "key 45, frequency 349.2 Hz\n",
      "key 46, frequency 370.0 Hz\n",
      "key 47, frequency 392.0 Hz\n",
      "key 48, frequency 415.3 Hz\n",
      "key 49, frequency 440.0 Hz\n",
      "key 50, frequency 466.2 Hz\n",
      "key 51, frequency 493.9 Hz\n",
      "key 52, frequency 523.3 Hz\n",
      "key 53, frequency 554.4 Hz\n",
      "key 54, frequency 587.3 Hz\n",
      "key 55, frequency 622.3 Hz\n",
      "key 56, frequency 659.3 Hz\n",
      "key 57, frequency 698.5 Hz\n",
      "key 58, frequency 740.0 Hz\n",
      "key 59, frequency 784.0 Hz\n"
     ]
    }
   ],
   "source": [
    "fs=44000\n",
    "t = pyano.time_arr(0.5, fs)\n",
    "\n",
    "for n in np.arange(35,60):\n",
    "    f = pyano.key2frequency(n)\n",
    "    print(\"key {}, frequency {:.1f} Hz\".format(n, f))\n",
    "    y = pyano.sinewave(f, t)\n",
    "    al.play(y, fs=fs)\n"
   ]
  },
  {
   "cell_type": "code",
   "execution_count": 35,
   "metadata": {},
   "outputs": [
    {
     "name": "stdout",
     "output_type": "stream",
     "text": [
      "key 35, frequency -73.3 Hz\n",
      "key 36, frequency -36.7 Hz\n",
      "key 37, frequency 0.0 Hz\n",
      "key 38, frequency 36.7 Hz\n",
      "key 39, frequency 73.3 Hz\n",
      "key 40, frequency 110.0 Hz\n",
      "key 41, frequency 146.7 Hz\n",
      "key 42, frequency 183.3 Hz\n",
      "key 43, frequency 220.0 Hz\n",
      "key 44, frequency 256.7 Hz\n",
      "key 45, frequency 293.3 Hz\n",
      "key 46, frequency 330.0 Hz\n",
      "key 47, frequency 366.7 Hz\n",
      "key 48, frequency 403.3 Hz\n",
      "key 49, frequency 440.0 Hz\n",
      "key 50, frequency 476.7 Hz\n",
      "key 51, frequency 513.3 Hz\n",
      "key 52, frequency 550.0 Hz\n",
      "key 53, frequency 586.7 Hz\n",
      "key 54, frequency 623.3 Hz\n",
      "key 55, frequency 660.0 Hz\n",
      "key 56, frequency 696.7 Hz\n",
      "key 57, frequency 733.3 Hz\n",
      "key 58, frequency 770.0 Hz\n",
      "key 59, frequency 806.7 Hz\n"
     ]
    }
   ],
   "source": [
    "t = pyano.time_arr(0.5, fs)\n",
    "\n",
    "for n in np.arange(35,60):\n",
    "    f = pyano.linear_piano_key2frequency(n)\n",
    "    print(\"key {}, frequency {:.1f} Hz\".format(n, f))\n",
    "    y = pyano.sinewave(f, t)\n",
    "    al.play(y, fs=fs)"
   ]
  },
  {
   "cell_type": "markdown",
   "metadata": {},
   "source": [
    "## Let's play Beethoven's Symphony No. 9 \"Ode to Joy\""
   ]
  },
  {
   "cell_type": "code",
   "execution_count": 36,
   "metadata": {},
   "outputs": [],
   "source": [
    "ode = list('BBCDDCBAGG' # G A and B should be an octave below\n",
    "           'ABBAA'\\\n",
    "          'BBCDD'\\\n",
    "          'CBAGG'\\\n",
    "          'ABAGG'\\\n",
    "          'ABGA'\\\n",
    "          'BCBGA'\\\n",
    "          'BCBAG'\\\n",
    "          'ADD'\\\n",
    "          'BBCDD'\\\n",
    "           'CBAGG'\\\n",
    "           'ABAGG'\n",
    "           )"
   ]
  },
  {
   "cell_type": "code",
   "execution_count": 39,
   "metadata": {},
   "outputs": [
    {
     "name": "stdout",
     "output_type": "stream",
     "text": [
      "Piano key B, frequency 246.9 Hz\n",
      "Piano key B, frequency 246.9 Hz\n",
      "Piano key C, frequency 130.8 Hz\n",
      "Piano key D, frequency 146.8 Hz\n",
      "Piano key D, frequency 146.8 Hz\n",
      "Piano key C, frequency 130.8 Hz\n",
      "Piano key B, frequency 246.9 Hz\n",
      "Piano key A, frequency 220.0 Hz\n",
      "Piano key G, frequency 196.0 Hz\n",
      "Piano key G, frequency 196.0 Hz\n",
      "Piano key A, frequency 220.0 Hz\n",
      "Piano key B, frequency 246.9 Hz\n",
      "Piano key B, frequency 246.9 Hz\n",
      "Piano key A, frequency 220.0 Hz\n",
      "Piano key A, frequency 220.0 Hz\n",
      "Piano key B, frequency 246.9 Hz\n",
      "Piano key B, frequency 246.9 Hz\n",
      "Piano key C, frequency 130.8 Hz\n",
      "Piano key D, frequency 146.8 Hz\n",
      "Piano key D, frequency 146.8 Hz\n",
      "Piano key C, frequency 130.8 Hz\n",
      "Piano key B, frequency 246.9 Hz\n",
      "Piano key A, frequency 220.0 Hz\n",
      "Piano key G, frequency 196.0 Hz\n",
      "Piano key G, frequency 196.0 Hz\n",
      "Piano key A, frequency 220.0 Hz\n",
      "Piano key B, frequency 246.9 Hz\n",
      "Piano key A, frequency 220.0 Hz\n",
      "Piano key G, frequency 196.0 Hz\n",
      "Piano key G, frequency 196.0 Hz\n",
      "Piano key A, frequency 220.0 Hz\n",
      "Piano key B, frequency 246.9 Hz\n",
      "Piano key G, frequency 196.0 Hz\n",
      "Piano key A, frequency 220.0 Hz\n",
      "Piano key B, frequency 246.9 Hz\n",
      "Piano key C, frequency 130.8 Hz\n",
      "Piano key B, frequency 246.9 Hz\n",
      "Piano key G, frequency 196.0 Hz\n",
      "Piano key A, frequency 220.0 Hz\n",
      "Piano key B, frequency 246.9 Hz\n",
      "Piano key C, frequency 130.8 Hz\n",
      "Piano key B, frequency 246.9 Hz\n",
      "Piano key A, frequency 220.0 Hz\n",
      "Piano key G, frequency 196.0 Hz\n",
      "Piano key A, frequency 220.0 Hz\n",
      "Piano key D, frequency 146.8 Hz\n",
      "Piano key D, frequency 146.8 Hz\n",
      "Piano key B, frequency 246.9 Hz\n",
      "Piano key B, frequency 246.9 Hz\n",
      "Piano key C, frequency 130.8 Hz\n",
      "Piano key D, frequency 146.8 Hz\n",
      "Piano key D, frequency 146.8 Hz\n",
      "Piano key C, frequency 130.8 Hz\n",
      "Piano key B, frequency 246.9 Hz\n",
      "Piano key A, frequency 220.0 Hz\n",
      "Piano key G, frequency 196.0 Hz\n",
      "Piano key G, frequency 196.0 Hz\n",
      "Piano key A, frequency 220.0 Hz\n",
      "Piano key B, frequency 246.9 Hz\n",
      "Piano key A, frequency 220.0 Hz\n",
      "Piano key G, frequency 196.0 Hz\n",
      "Piano key G, frequency 196.0 Hz\n"
     ]
    }
   ],
   "source": [
    "for note in ode:\n",
    "    n = pyano.note2pianokey(note, octave=3) # get key from note name\n",
    "    f = pyano.key2frequency(n) # get frequency if the note\n",
    "    print(\"Piano key {}, frequency {:.1f} Hz\".format(note, f))\n",
    "    y = pyano.harmonic(f, t)\n",
    "    al.play(y, fs=fs)"
   ]
  },
  {
   "cell_type": "markdown",
   "metadata": {},
   "source": [
    "### Now with the linear piano"
   ]
  },
  {
   "cell_type": "code",
   "execution_count": 38,
   "metadata": {},
   "outputs": [
    {
     "name": "stdout",
     "output_type": "stream",
     "text": [
      "Piano key B (493.9), frequency 513.3 Hz\n",
      "Piano key B (493.9), frequency 513.3 Hz\n",
      "Piano key C (261.6), frequency 110.0 Hz\n",
      "Piano key D (293.7), frequency 183.3 Hz\n",
      "Piano key D (293.7), frequency 183.3 Hz\n",
      "Piano key C (261.6), frequency 110.0 Hz\n",
      "Piano key B (493.9), frequency 513.3 Hz\n",
      "Piano key A (440.0), frequency 440.0 Hz\n",
      "Piano key G (392.0), frequency 366.7 Hz\n",
      "Piano key G (392.0), frequency 366.7 Hz\n",
      "Piano key A (440.0), frequency 440.0 Hz\n",
      "Piano key B (493.9), frequency 513.3 Hz\n",
      "Piano key B (493.9), frequency 513.3 Hz\n",
      "Piano key A (440.0), frequency 440.0 Hz\n",
      "Piano key A (440.0), frequency 440.0 Hz\n",
      "Piano key B (493.9), frequency 513.3 Hz\n",
      "Piano key B (493.9), frequency 513.3 Hz\n",
      "Piano key C (261.6), frequency 110.0 Hz\n",
      "Piano key D (293.7), frequency 183.3 Hz\n",
      "Piano key D (293.7), frequency 183.3 Hz\n",
      "Piano key C (261.6), frequency 110.0 Hz\n",
      "Piano key B (493.9), frequency 513.3 Hz\n",
      "Piano key A (440.0), frequency 440.0 Hz\n",
      "Piano key G (392.0), frequency 366.7 Hz\n",
      "Piano key G (392.0), frequency 366.7 Hz\n",
      "Piano key A (440.0), frequency 440.0 Hz\n",
      "Piano key B (493.9), frequency 513.3 Hz\n",
      "Piano key A (440.0), frequency 440.0 Hz\n",
      "Piano key G (392.0), frequency 366.7 Hz\n",
      "Piano key G (392.0), frequency 366.7 Hz\n",
      "Piano key A (440.0), frequency 440.0 Hz\n",
      "Piano key B (493.9), frequency 513.3 Hz\n",
      "Piano key G (392.0), frequency 366.7 Hz\n",
      "Piano key A (440.0), frequency 440.0 Hz\n",
      "Piano key B (493.9), frequency 513.3 Hz\n",
      "Piano key C (261.6), frequency 110.0 Hz\n",
      "Piano key B (493.9), frequency 513.3 Hz\n",
      "Piano key G (392.0), frequency 366.7 Hz\n",
      "Piano key A (440.0), frequency 440.0 Hz\n",
      "Piano key B (493.9), frequency 513.3 Hz\n",
      "Piano key C (261.6), frequency 110.0 Hz\n",
      "Piano key B (493.9), frequency 513.3 Hz\n",
      "Piano key A (440.0), frequency 440.0 Hz\n",
      "Piano key G (392.0), frequency 366.7 Hz\n",
      "Piano key A (440.0), frequency 440.0 Hz\n",
      "Piano key D (293.7), frequency 183.3 Hz\n",
      "Piano key D (293.7), frequency 183.3 Hz\n",
      "Piano key B (493.9), frequency 513.3 Hz\n",
      "Piano key B (493.9), frequency 513.3 Hz\n",
      "Piano key C (261.6), frequency 110.0 Hz\n",
      "Piano key D (293.7), frequency 183.3 Hz\n",
      "Piano key D (293.7), frequency 183.3 Hz\n",
      "Piano key C (261.6), frequency 110.0 Hz\n",
      "Piano key B (493.9), frequency 513.3 Hz\n",
      "Piano key A (440.0), frequency 440.0 Hz\n",
      "Piano key G (392.0), frequency 366.7 Hz\n",
      "Piano key G (392.0), frequency 366.7 Hz\n",
      "Piano key A (440.0), frequency 440.0 Hz\n",
      "Piano key B (493.9), frequency 513.3 Hz\n",
      "Piano key A (440.0), frequency 440.0 Hz\n",
      "Piano key G (392.0), frequency 366.7 Hz\n",
      "Piano key G (392.0), frequency 366.7 Hz\n"
     ]
    }
   ],
   "source": [
    "for note in ode:\n",
    "    n = pyano.note2pianokey(note, octave=4)\n",
    "    f = pyano.key2frequency(n)\n",
    "    fl = pyano.linear_piano_key2frequency(n)\n",
    "    print(\"Piano key {} ({:.1f}), frequency {:.1f} Hz\".format(note, f, fl))\n",
    "    y = pyano.harmonic(fl, t)\n",
    "    al.play(y, fs=fs)"
   ]
  },
  {
   "cell_type": "code",
   "execution_count": null,
   "metadata": {},
   "outputs": [],
   "source": []
  }
 ],
 "metadata": {
  "kernelspec": {
   "display_name": "Python 2",
   "language": "python",
   "name": "python2"
  },
  "language_info": {
   "codemirror_mode": {
    "name": "ipython",
    "version": 2
   },
   "file_extension": ".py",
   "mimetype": "text/x-python",
   "name": "python",
   "nbconvert_exporter": "python",
   "pygments_lexer": "ipython2",
   "version": "2.7.16"
  }
 },
 "nbformat": 4,
 "nbformat_minor": 2
}
