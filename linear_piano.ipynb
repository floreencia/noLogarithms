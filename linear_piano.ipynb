{
 "cells": [
  {
   "cell_type": "code",
   "execution_count": 1,
   "metadata": {},
   "outputs": [],
   "source": [
    "from __future__ import print_function, division\n",
    "import numpy as np # manipulate data\n",
    "import matplotlib.pyplot as plt # plotting\n",
    "import scikits.audiolab as al # play sounds, only for python 2\n",
    "from scipy import signal # window signal\n",
    "import ipywidgets as widgets # interactive buttons\n",
    "import matplotlib # plotting parameters\n",
    "matplotlib.rcParams.update({'font.size': 18}) # enlarge font size"
   ]
  },
  {
   "cell_type": "markdown",
   "metadata": {},
   "source": [
    "Some functions we'll use"
   ]
  },
  {
   "cell_type": "code",
   "execution_count": 2,
   "metadata": {},
   "outputs": [],
   "source": [
    "fs=44100 # sampling rate Hz\n",
    "\n",
    "### building blocks\n",
    "\n",
    "def sinewave(freq, time):\n",
    "    \"\"\"Creates sine wave\"\"\"\n",
    "    y = np.sin(2*np.pi*freq*time)\n",
    "    w = signal.tukey(len(y)) # window the signal\n",
    "    return y*w\n",
    "\n",
    "def time_arr(tf, fs):\n",
    "    \"\"\"creates a time array fiven the sampling rate fs\"\"\"\n",
    "    return np.linspace(0, tf, fs*tf)\n",
    "\n",
    "def _round2int(x):\n",
    "    return int(np.round(x))\n",
    "\n",
    "round2int = np.vectorize(_round2int)\n",
    "\n",
    "def playwave(f, tf=1):\n",
    "    \"\"\"plays sine wave with frequency f and duration tf\"\"\"\n",
    "    t = time_arr(tf, fs)\n",
    "    y = sinewave(f, t)\n",
    "    al.play(y, fs=fs)\n",
    "\n",
    "\n",
    "#### pitch and music theory\n",
    "\n",
    "def key2frequency(n_key):\n",
    "    \"\"\"Returns the piano key given the frequency\"\"\"\n",
    "    return 440.*2.**((n_key - 49.)/12.)\n",
    "\n",
    "keys2frequencies = np.vectorize(key2frequency)\n",
    "\n",
    "def frequency2key(n_key):\n",
    "    \"\"\"Returns the frequency of the n-th key\"\"\"\n",
    "    return 12.*np.log2(f/440.) + 49.\n",
    "\n",
    "frequencies2keys = np.vectorize(frequency2key)\n",
    "\n",
    "def linear_piano_key2frequency(n_key):\n",
    "    \"\"\"Simulates the frequencies of a piano with linear intervals between notes\n",
    "    Calibrate linear piano with A440, A880\"\"\"\n",
    "    f = 440. / 12. * n_key + 440.*(1. - 49. / 12.)\n",
    "    return f\n",
    "\n",
    "linear_piano_keys2frequencies = np.vectorize(linear_piano_key2frequency)\n",
    "\n",
    "## Music theory\n",
    "\n",
    "def majorScaleKeys(n0=49, n_octaves=1):\n",
    "    \"\"\"Returns the keys of the major scale starting at n0\n",
    "    TODO: generalise to more than one octave\"\"\"\n",
    "    intervals = np.array([2, 2, 1, 2, 2, 2, 1])\n",
    "    intervals_from_key = np.cumsum(intervals)\n",
    "    keys = np.hstack((np.array([n0]), n0 + intervals_from_key))\n",
    "    return keys\n",
    "\n",
    "def majorScaleFreqs(n0=49, n_octaves=1):\n",
    "    \"\"\"Returns the frequencies of the major starting at the n0-th key\"\"\"\n",
    "    keys = majorScaleKeys(n0=n0, n_octaves=n_octaves)\n",
    "    return keys2frequencies(keys)\n",
    "\n",
    "def linear_majorScaleFreqs(n0=49, n_octaves=1):\n",
    "    \"\"\"Returns the frequencies of the major starting at the n0-th key\"\"\"\n",
    "    keys = majorScaleKeys(n0=n0, n_octaves=n_octaves)\n",
    "    return linear_piano_key2frequency(keys)\n",
    "\n",
    "def pioanokey2note():\n",
    "    \"\"\"TODO returns notes A A#Bb B...\"\"\"\n",
    "    return 0\n",
    "    \n",
    "def calibrate_piano(note_key1, note_key2):\n",
    "    \"\"\"TODO\n",
    "    Simulates the frequencies of a piano with linear intervals between notes\n",
    "    Calibrate linear piano with A440, A880\n",
    "    TODO note_ket = (key, freq)\"\"\"\n",
    "    assert isintance(note_key1[0], int)\n",
    "    assert isintance(note_key2[0], int)\n",
    "    assert isintance(note_key1[1], float)\n",
    "    assert isintance(note_key2[1], float)\n",
    "    return 0\n",
    "    f1, k1 = note_key1\n",
    "    f2, k2 = note_key2\n",
    "\n",
    "    f = (f2 - f1) / (k2 - k1) * n_key + b\n",
    "    \n",
    "    return f"
   ]
  },
  {
   "cell_type": "markdown",
   "metadata": {},
   "source": [
    "# How would a world without logarithms look like? \n",
    "\n",
    "Author: Florencia Noriega, florencia.noriega@code.berlin\n",
    "\n",
    "Here we listen to this world exploring the linear piano. \n",
    "\n",
    "## The linear piano\n",
    "\n",
    "The linear piano is a deformation of the normal piano for beings who perceive sound frequencies linearly instead of logarithmically as we humans do. \n",
    "To understand the linear piano deformation, let's first look at how the normal piano works. \n",
    "\n",
    "\n",
    "### The piano\n",
    "\n",
    "The piano (or any keyboard) is composed of blak an white keys that map to the 12 notes of the [chromatic scale](https://en.wikipedia.org/wiki/Chromatic_scale).\n",
    "Every 12 notes we go back to the same note one octave higher.  The frequency of a note doubles from one octave to the next octave. For example, the frequency of A in the 3rd octave is 220 Hz and in the 4th octave is 440 Hz.\n",
    "\n",
    "In the figure below the keys are grouped into nine octaves.\n",
    "We can label the keys of the piano by their position; one for the first key, two for the second and so on. \n",
    "With such labelling, note C of the 4th octave, or C4, would be the 40th key of the piano and note A4 (A in the 4th octave) would be the 49th key.\n",
    "\n",
    "\n",
    "https://en.wikipedia.org/wiki/Piano_key_frequencies \n",
    "\n",
    "<a title=\"AlwaysAngry [CC BY-SA 3.0 (https://creativecommons.org/licenses/by-sa/3.0)], via Wikimedia Commons\" href=\"https://commons.wikimedia.org/wiki/File:Piano_Frequencies.svg\"><img width=\"700\" alt=\"Piano Frequencies\" src=\"https://upload.wikimedia.org/wikipedia/commons/thumb/2/2e/Piano_Frequencies.svg/512px-Piano_Frequencies.svg.png\"></a>\n"
   ]
  },
  {
   "cell_type": "code",
   "execution_count": 3,
   "metadata": {},
   "outputs": [
    {
     "name": "stdout",
     "output_type": "stream",
     "text": [
      "There are 88 the keyboard\n"
     ]
    }
   ],
   "source": [
    "N_keys = 12 * 7 + 3 + 1\n",
    "print('There are', N_keys, 'the keyboard')"
   ]
  },
  {
   "cell_type": "markdown",
   "metadata": {},
   "source": [
    "The intervals between the frequencies of the notes follow a logarithmic relation. "
   ]
  },
  {
   "cell_type": "code",
   "execution_count": 4,
   "metadata": {},
   "outputs": [
    {
     "data": {
      "text/plain": [
       "Text(0,0.5,'Frequency (Hz)')"
      ]
     },
     "execution_count": 4,
     "metadata": {},
     "output_type": "execute_result"
    },
    {
     "data": {
      "image/png": "[encoded data removed]",
      "text/plain": [
       "<Figure size 432x288 with 1 Axes>"
      ]
     },
     "metadata": {
      "needs_background": "light"
     },
     "output_type": "display_data"
    }
   ],
   "source": [
    "Mk = keys2frequencies(np.arange(1, N_keys+1))\n",
    "\n",
    "plt.semilogy(Mk, 'bo')\n",
    "#plt.plot(Mk, 'bo')\n",
    "plt.title('Piano')\n",
    "plt.xlabel('Key index')\n",
    "plt.ylabel('Frequency (Hz)')"
   ]
  },
  {
   "cell_type": "markdown",
   "metadata": {},
   "source": [
    "If these intervals would follow a linear relation, we would perceive sound in a completely different way. "
   ]
  },
  {
   "cell_type": "code",
   "execution_count": 5,
   "metadata": {},
   "outputs": [
    {
     "data": {
      "text/plain": [
       "Text(0,0.5,'Frequency (Hz)')"
      ]
     },
     "execution_count": 5,
     "metadata": {},
     "output_type": "execute_result"
    },
    {
     "data": {
      "image/png": "[encoded data removed]",
      "text/plain": [
       "<Figure size 432x288 with 1 Axes>"
      ]
     },
     "metadata": {
      "needs_background": "light"
     },
     "output_type": "display_data"
    }
   ],
   "source": [
    "fr = linear_piano_key2frequency(np.arange(1, N_keys+1))\n",
    "\n",
    "plt.plot(fr, 'bo')\n",
    "plt.plot(fr[fr<0], 'ro')\n",
    "\n",
    "plt.title('Linear piano')\n",
    "plt.xlabel('Key index')\n",
    "plt.ylabel('Frequency (Hz)')"
   ]
  },
  {
   "cell_type": "markdown",
   "metadata": {},
   "source": [
    "The linear piano misses almost half of the notes."
   ]
  },
  {
   "cell_type": "code",
   "execution_count": 6,
   "metadata": {},
   "outputs": [
    {
     "data": {
      "text/plain": [
       "array([[37],\n",
       "       [38]])"
      ]
     },
     "execution_count": 6,
     "metadata": {},
     "output_type": "execute_result"
    }
   ],
   "source": [
    "np.argwhere(fr>0)[0:2]"
   ]
  },
  {
   "cell_type": "markdown",
   "metadata": {},
   "source": [
    "### First five keys of the piano\n"
   ]
  },
  {
   "cell_type": "code",
   "execution_count": 7,
   "metadata": {},
   "outputs": [
    {
     "name": "stdout",
     "output_type": "stream",
     "text": [
      "Frequencies of the first keys\n",
      "Piano ['28', '29', '31', '33', '35']\n",
      "Linear piano ['0', '37', '73', '110', '147']\n"
     ]
    }
   ],
   "source": [
    "## piano\n",
    "piano_keys = [str(item) for item in round2int(keys2frequencies(np.arange(1,6)))]\n",
    "\n",
    "## lienear piano\n",
    "valid_linear_piano_keys = np.array( [item[0] for item in np.argwhere(fr>0)]) # keep only notes with positive frequency\n",
    "\n",
    "linearPiano_keys = [str(item) for \n",
    "                    item in round2int(linear_piano_keys2frequencies(valid_linear_piano_keys[np.arange(5)]))]\n",
    "print(\"Frequencies of the first keys\\nPiano\", piano_keys)\n",
    "print(\"Linear piano\", linearPiano_keys)"
   ]
  },
  {
   "cell_type": "markdown",
   "metadata": {},
   "source": [
    "Let's listen at them\n",
    "\n",
    "First five, are the notes of the piano and last five are the first five notes of the linear piano."
   ]
  },
  {
   "cell_type": "code",
   "execution_count": 8,
   "metadata": {},
   "outputs": [
    {
     "data": {
      "application/vnd.jupyter.widget-view+json": {
       "model_id": "0e3ea87b43814288bc3517b2ca60d1e9",
       "version_major": 2,
       "version_minor": 0
      },
      "text/plain": [
       "VG9nZ2xlQnV0dG9ucyhkZXNjcmlwdGlvbj11J0ZyZXF1ZW5jeTonLCBvcHRpb25zPSgnMjgnLCAnMjknLCAnMzEnLCAnMzMnLCAnMzUnLCAnMCcsICczNycsICc3MycsICcxMTAnLCAnMTQ3JynigKY=\n"
      ]
     },
     "metadata": {},
     "output_type": "display_data"
    }
   ],
   "source": [
    "buttons = widgets.ToggleButtons(\n",
    "    options=piano_keys + linearPiano_keys,\n",
    "    description='Frequency:',\n",
    ")\n",
    "    \n",
    "def on_click(change):\n",
    "    playwave(float(change['new']))\n",
    "    \n",
    "buttons.observe(on_click, 'value')\n",
    "buttons"
   ]
  },
  {
   "cell_type": "markdown",
   "metadata": {},
   "source": [
    "# Play some notes"
   ]
  },
  {
   "cell_type": "code",
   "execution_count": 9,
   "metadata": {},
   "outputs": [
    {
     "data": {
      "application/vnd.jupyter.widget-view+json": {
       "model_id": "7545a717a05d43f1b9bf1ba2190bbb2b",
       "version_major": 2,
       "version_minor": 0
      },
      "text/plain": [
       "VG9nZ2xlQnV0dG9ucyhkZXNjcmlwdGlvbj11J0ZyZXF1ZW5jeTonLCBvcHRpb25zPSgnMjInLCAnMzEnLCAnNDQwJywgJzg4MCcsICcxNzYwJywgJzE1MDAwJywgJzM5MCcpLCB2YWx1ZT0nMjLigKY=\n"
      ]
     },
     "metadata": {},
     "output_type": "display_data"
    }
   ],
   "source": [
    "buttons = widgets.ToggleButtons(\n",
    "    options=['22', '31','440', '880', '1760', '15000','390' ],\n",
    "    description='Frequency:',\n",
    ")\n",
    "    \n",
    "def on_click(change):\n",
    "    playwave(float(change['new']))\n",
    "    \n",
    "\n",
    "buttons.observe(on_click, 'value')\n",
    "buttons"
   ]
  },
  {
   "cell_type": "code",
   "execution_count": 10,
   "metadata": {},
   "outputs": [
    {
     "data": {
      "application/vnd.jupyter.widget-view+json": {
       "model_id": "aa3e2a417eba4d0391b9f43637461132",
       "version_major": 2,
       "version_minor": 0
      },
      "text/plain": [
       "ToggleButtons(description=u'Frequency:', options=('440', '880', '1320'), value='440')"
      ]
     },
     "metadata": {},
     "output_type": "display_data"
    }
   ],
   "source": [
    "buttons = widgets.ToggleButtons(\n",
    "    options=['440', '880', '1320'],\n",
    "    description='Frequency:',\n",
    ")\n",
    "    \n",
    "def on_click(change):\n",
    "    playwave(float(change['new']))\n",
    "    \n",
    "\n",
    "buttons.observe(on_click, 'value')\n",
    "buttons"
   ]
  },
  {
   "cell_type": "markdown",
   "metadata": {},
   "source": [
    "# Major scale"
   ]
  },
  {
   "cell_type": "code",
   "execution_count": 11,
   "metadata": {},
   "outputs": [
    {
     "data": {
      "application/vnd.jupyter.widget-view+json": {
       "model_id": "5e5f1f3fda9643f8b9bc165eb771da64",
       "version_major": 2,
       "version_minor": 0
      },
      "text/plain": [
       "VG9nZ2xlQnV0dG9ucyhkZXNjcmlwdGlvbj11J0ZyZXF1ZW5jeTonLCBvcHRpb25zPSgnMjYyJywgJzI5NCcsICczMzAnLCAnMzQ5JywgJzM5MicsICc0NDAnLCAnNDk0JywgJzUyMycpLCB2YWzigKY=\n"
      ]
     },
     "metadata": {},
     "output_type": "display_data"
    }
   ],
   "source": [
    "majorScale = [str(item) for item in round2int(majorScaleFreqs(n0=40))]\n",
    "\n",
    "buttons = widgets.ToggleButtons(\n",
    "    options=majorScale,\n",
    "    description='Frequency:',\n",
    ")\n",
    "    \n",
    "def on_click(change):\n",
    "    playwave(float(change['new']))\n",
    "    \n",
    "\n",
    "buttons.observe(on_click, 'value')\n",
    "buttons"
   ]
  },
  {
   "cell_type": "markdown",
   "metadata": {},
   "source": [
    "## Major scale in a world without logarithms"
   ]
  },
  {
   "cell_type": "code",
   "execution_count": 12,
   "metadata": {},
   "outputs": [
    {
     "data": {
      "application/vnd.jupyter.widget-view+json": {
       "model_id": "2909326812da4ef79c91e47702e2c410",
       "version_major": 2,
       "version_minor": 0
      },
      "text/plain": [
       "VG9nZ2xlQnV0dG9ucyhkZXNjcmlwdGlvbj11J0ZyZXF1ZW5jeTonLCBvcHRpb25zPSgnMTEwJywgJzE4MycsICcyNTcnLCAnMjkzJywgJzM2NycsICc0NDAnLCAnNTEzJywgJzU1MCcpLCB2YWzigKY=\n"
      ]
     },
     "metadata": {},
     "output_type": "display_data"
    }
   ],
   "source": [
    "linear_majorScale = [str(item) for item in round2int(linear_majorScaleFreqs(n0=40))]\n",
    "\n",
    "buttons = widgets.ToggleButtons(\n",
    "    options = linear_majorScale, #['440', '494', '523', '587', '659', '698', '784', '880'],\n",
    "    description='Frequency:',\n",
    ")\n",
    "    \n",
    "def on_click(change):\n",
    "    playwave(float(change['new']))\n",
    "    \n",
    "\n",
    "buttons.observe(on_click, 'value')\n",
    "buttons"
   ]
  },
  {
   "cell_type": "markdown",
   "metadata": {},
   "source": [
    "# Play all keys"
   ]
  },
  {
   "cell_type": "code",
   "execution_count": 14,
   "metadata": {},
   "outputs": [
    {
     "name": "stderr",
     "output_type": "stream",
     "text": [
      "/Users/florencia/venvs/py27/lib/python2.7/site-packages/ipykernel_launcher.py:13: DeprecationWarning: object of type <type 'float'> cannot be safely interpreted as an integer.\n",
      "  del sys.path[0]\n"
     ]
    },
    {
     "name": "stdout",
     "output_type": "stream",
     "text": [
      "key 35, frequency 196.0 Hz\n",
      "key 36, frequency 207.7 Hz\n",
      "key 37, frequency 220.0 Hz\n",
      "key 38, frequency 233.1 Hz\n",
      "key 39, frequency 246.9 Hz\n",
      "key 40, frequency 261.6 Hz\n",
      "key 41, frequency 277.2 Hz\n",
      "key 42, frequency 293.7 Hz\n",
      "key 43, frequency 311.1 Hz\n",
      "key 44, frequency 329.6 Hz\n",
      "key 45, frequency 349.2 Hz\n",
      "key 46, frequency 370.0 Hz\n",
      "key 47, frequency 392.0 Hz\n",
      "key 48, frequency 415.3 Hz\n",
      "key 49, frequency 440.0 Hz\n",
      "key 50, frequency 466.2 Hz\n",
      "key 51, frequency 493.9 Hz\n",
      "key 52, frequency 523.3 Hz\n",
      "key 53, frequency 554.4 Hz\n",
      "key 54, frequency 587.3 Hz\n",
      "key 55, frequency 622.3 Hz\n",
      "key 56, frequency 659.3 Hz\n",
      "key 57, frequency 698.5 Hz\n",
      "key 58, frequency 740.0 Hz\n",
      "key 59, frequency 784.0 Hz\n"
     ]
    }
   ],
   "source": [
    "t = time_arr(0.5, fs)\n",
    "\n",
    "for n in np.arange(35,60):\n",
    "    f = key2frequency(n)\n",
    "    print(\"key {}, frequency {:.1f} Hz\".format(n, f))\n",
    "    y = sinewave(f, t)\n",
    "    al.play(y, fs=fs)\n"
   ]
  },
  {
   "cell_type": "code",
   "execution_count": 15,
   "metadata": {},
   "outputs": [
    {
     "name": "stderr",
     "output_type": "stream",
     "text": [
      "/Users/florencia/venvs/py27/lib/python2.7/site-packages/ipykernel_launcher.py:13: DeprecationWarning: object of type <type 'float'> cannot be safely interpreted as an integer.\n",
      "  del sys.path[0]\n"
     ]
    },
    {
     "name": "stdout",
     "output_type": "stream",
     "text": [
      "key 35, frequency -73.3 Hz\n",
      "key 36, frequency -36.7 Hz\n",
      "key 37, frequency 0.0 Hz\n",
      "key 38, frequency 36.7 Hz\n",
      "key 39, frequency 73.3 Hz\n",
      "key 40, frequency 110.0 Hz\n",
      "key 41, frequency 146.7 Hz\n",
      "key 42, frequency 183.3 Hz\n",
      "key 43, frequency 220.0 Hz\n",
      "key 44, frequency 256.7 Hz\n",
      "key 45, frequency 293.3 Hz\n",
      "key 46, frequency 330.0 Hz\n",
      "key 47, frequency 366.7 Hz\n",
      "key 48, frequency 403.3 Hz\n",
      "key 49, frequency 440.0 Hz\n",
      "key 50, frequency 476.7 Hz\n",
      "key 51, frequency 513.3 Hz\n",
      "key 52, frequency 550.0 Hz\n",
      "key 53, frequency 586.7 Hz\n",
      "key 54, frequency 623.3 Hz\n",
      "key 55, frequency 660.0 Hz\n",
      "key 56, frequency 696.7 Hz\n",
      "key 57, frequency 733.3 Hz\n",
      "key 58, frequency 770.0 Hz\n",
      "key 59, frequency 806.7 Hz\n"
     ]
    }
   ],
   "source": [
    "t = time_arr(0.5, fs)\n",
    "\n",
    "for n in np.arange(35,60):\n",
    "    f = linear_piano_key2frequency(n)\n",
    "    print(\"key {}, frequency {:.1f} Hz\".format(n, f))\n",
    "    y = sinewave(f, t)\n",
    "    al.play(y, fs=fs)"
   ]
  },
  {
   "cell_type": "code",
   "execution_count": null,
   "metadata": {},
   "outputs": [],
   "source": []
  },
  {
   "cell_type": "code",
   "execution_count": null,
   "metadata": {},
   "outputs": [],
   "source": []
  }
 ],
 "metadata": {
  "kernelspec": {
   "display_name": "Python 2",
   "language": "python",
   "name": "python2"
  },
  "language_info": {
   "codemirror_mode": {
    "name": "ipython",
    "version": 2
   },
   "file_extension": ".py",
   "mimetype": "text/x-python",
   "name": "python",
   "nbconvert_exporter": "python",
   "pygments_lexer": "ipython2",
   "version": "2.7.10"
  }
 },
 "nbformat": 4,
 "nbformat_minor": 2
}
