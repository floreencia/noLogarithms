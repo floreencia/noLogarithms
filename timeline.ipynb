{
 "cells": [
  {
   "cell_type": "markdown",
   "metadata": {},
   "source": [
    "# Timeline\n",
    "\n",
    "Events, such as the formation of our solar system, the invention of writing and the time of your last breakfast can be visualised in a timeline.\n",
    "However, because the time elapsed since the occurrence of these events has very different time scales, visualising them in a timeline takes a lot of space [[waitbutwhy](https://waitbutwhy.com/2013/08/putting-time-in-perspective.html)]. \n",
    "\n",
    "Here we'll use the logarithmic scale to visualise a timeline of events comprising numerous time scales."
   ]
  },
  {
   "cell_type": "markdown",
   "metadata": {},
   "source": [
    "Import modules"
   ]
  },
  {
   "cell_type": "code",
   "execution_count": 1,
   "metadata": {},
   "outputs": [],
   "source": [
    "import numpy as np\n",
    "import matplotlib.pyplot as plt\n",
    "import pandas as pd\n",
    "#plt.xkcd() # uncomment to get xkcd-like plot"
   ]
  },
  {
   "cell_type": "markdown",
   "metadata": {},
   "source": [
    "Load table"
   ]
  },
  {
   "cell_type": "code",
   "execution_count": 2,
   "metadata": {},
   "outputs": [
    {
     "data": {
      "text/html": [
       "<div>\n",
       "<style scoped>\n",
       "    .dataframe tbody tr th:only-of-type {\n",
       "        vertical-align: middle;\n",
       "    }\n",
       "\n",
       "    .dataframe tbody tr th {\n",
       "        vertical-align: top;\n",
       "    }\n",
       "\n",
       "    .dataframe thead th {\n",
       "        text-align: right;\n",
       "    }\n",
       "</style>\n",
       "<table border=\"1\" class=\"dataframe\">\n",
       "  <thead>\n",
       "    <tr style=\"text-align: right;\">\n",
       "      <th></th>\n",
       "      <th>activity</th>\n",
       "      <th>time</th>\n",
       "      <th>units</th>\n",
       "      <th>multiplicative facrtor</th>\n",
       "      <th>time(days)</th>\n",
       "    </tr>\n",
       "  </thead>\n",
       "  <tbody>\n",
       "    <tr>\n",
       "      <th>0</th>\n",
       "      <td>Had breakfast</td>\n",
       "      <td>8</td>\n",
       "      <td>hours</td>\n",
       "      <td>0.041667</td>\n",
       "      <td>0.333333</td>\n",
       "    </tr>\n",
       "    <tr>\n",
       "      <th>1</th>\n",
       "      <td>Went to bed</td>\n",
       "      <td>12</td>\n",
       "      <td>hours</td>\n",
       "      <td>0.041667</td>\n",
       "      <td>0.500000</td>\n",
       "    </tr>\n",
       "    <tr>\n",
       "      <th>2</th>\n",
       "      <td>Christmas</td>\n",
       "      <td>3</td>\n",
       "      <td>months</td>\n",
       "      <td>30.000000</td>\n",
       "      <td>90.000000</td>\n",
       "    </tr>\n",
       "    <tr>\n",
       "      <th>3</th>\n",
       "      <td>Last swim</td>\n",
       "      <td>6</td>\n",
       "      <td>months</td>\n",
       "      <td>30.000000</td>\n",
       "      <td>180.000000</td>\n",
       "    </tr>\n",
       "    <tr>\n",
       "      <th>4</th>\n",
       "      <td>I was born</td>\n",
       "      <td>33</td>\n",
       "      <td>years</td>\n",
       "      <td>365.000000</td>\n",
       "      <td>12045.000000</td>\n",
       "    </tr>\n",
       "  </tbody>\n",
       "</table>\n",
       "</div>"
      ],
      "text/plain": [
       "        activity  time   units  multiplicative facrtor    time(days)\n",
       "0  Had breakfast     8   hours                0.041667      0.333333\n",
       "1    Went to bed    12   hours                0.041667      0.500000\n",
       "2      Christmas     3  months               30.000000     90.000000\n",
       "3      Last swim     6  months               30.000000    180.000000\n",
       "4     I was born    33   years              365.000000  12045.000000"
      ]
     },
     "execution_count": 2,
     "metadata": {},
     "output_type": "execute_result"
    }
   ],
   "source": [
    "fi = './TimeScales.csv'\n",
    "df = pd.read_csv(fi)\n",
    "df.head()"
   ]
  },
  {
   "cell_type": "markdown",
   "metadata": {},
   "source": [
    "Draw timeline"
   ]
  },
  {
   "cell_type": "code",
   "execution_count": 3,
   "metadata": {},
   "outputs": [
    {
     "data": {
      "text/plain": [
       "Text(0.5, 0, 'Elapsed time (days)')"
      ]
     },
     "execution_count": 3,
     "metadata": {},
     "output_type": "execute_result"
    },
    {
     "data": {
      "image/png": "[encoded data removed]",
      "text/plain": [
       "<Figure size 1296x144 with 1 Axes>"
      ]
     },
     "metadata": {
      "needs_background": "light"
     },
     "output_type": "display_data"
    }
   ],
   "source": [
    "fig, ax = plt.subplots(figsize=(18,2))\n",
    "\n",
    "for i, r in df.iterrows(): # iterate over the rows of the table\n",
    "    time = r.loc['time(days)']\n",
    "    ax.vlines(time, 0, 0.5)\n",
    "    ax.text(time, 0.6, r.loc['activity'], rotation=90,  verticalalignment='bottom')\n",
    "    \n",
    "ax.set_xscale(\"log\")\n",
    "ax.set_ylim(0, 3)\n",
    "ax.set_xlabel('')\n",
    "\n",
    "ax.spines['right'].set_visible(False)\n",
    "ax.spines['left'].set_visible(False)\n",
    "ax.spines['top'].set_visible(False)\n",
    "\n",
    "ax.yaxis.set_ticks([])\n",
    "\n",
    "ax.set_xlabel('Elapsed time (days)')"
   ]
  }
 ],
 "metadata": {
  "kernelspec": {
   "display_name": "Python 3",
   "language": "python",
   "name": "python3"
  },
  "language_info": {
   "codemirror_mode": {
    "name": "ipython",
    "version": 3
   },
   "file_extension": ".py",
   "mimetype": "text/x-python",
   "name": "python",
   "nbconvert_exporter": "python",
   "pygments_lexer": "ipython3",
   "version": "3.7.2"
  }
 },
 "nbformat": 4,
 "nbformat_minor": 2
}
